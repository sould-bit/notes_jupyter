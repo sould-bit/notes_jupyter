{
 "cells": [
  {
   "cell_type": "markdown",
   "metadata": {},
   "source": [
    "# Organizar carpetas \n",
    "\n",
    "# modulo \n",
    "- cualquier archvio de python  terminado .py, codigo reutilizable \n",
    "\n",
    "- archivo con las funciones nesesarias para cualquier el problema en especifico \n",
    "\n",
    "# un paquete \n",
    "una carpeta que contiene modulos \n",
    "__init__.py\n",
    "\n",
    "\n"
   ]
  },
  {
   "cell_type": "markdown",
   "metadata": {},
   "source": [
    "# QUE SON LOS TIPADOS\n",
    "- un leguaje va tener un tipado diferente de acuerdo a como trata a los tipos \n",
    "\n",
    "funcion \n",
    "- lenguaje compilado \n",
    "- tiempo de compilacion \n",
    "- se ejecuta , tiempo de ejecucion \n",
    "\n",
    "que lenguajes son los que levantan error en tiempo de compilacion ?\n",
    ": __tipado estatico__\n",
    "\n",
    "lenguajes que levantan error en tiempo de ejecucion\n",
    ": __tipado dynamic__\n",
    "\n"
   ]
  }
 ],
 "metadata": {
  "kernelspec": {
   "display_name": "Python 3.10.6 ('venv': venv)",
   "language": "python",
   "name": "python3"
  },
  "language_info": {
   "name": "python",
   "version": "3.10.6"
  },
  "orig_nbformat": 4,
  "vscode": {
   "interpreter": {
    "hash": "ddbd5c5aed7a1ae510f6b9d2947209e8559a5d12324b92e48bb7733f2044fa64"
   }
  }
 },
 "nbformat": 4,
 "nbformat_minor": 2
}
