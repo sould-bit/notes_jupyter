{
 "cells": [
  {
   "cell_type": "markdown",
   "metadata": {},
   "source": [
    "# GENERADORES\n",
    "* es una funcion \n",
    "-  \"sugar syntax\" de los iteradores\n",
    "\n",
    "````python\n",
    "yield \n",
    "````\n",
    "en lugar de terminar a la funcion yield pausa la funcion\n"
   ]
  },
  {
   "cell_type": "code",
   "execution_count": null,
   "metadata": {},
   "outputs": [],
   "source": [
    "def my_gen():\n",
    "\n",
    "    print(\"hello world\")\n",
    "    n = 0\n",
    "    yield n \n",
    "\n",
    "    print(\"hello heaven\")\n",
    "    n = 1 \n",
    "    yield n\n",
    "\n",
    "    print(\"hello hell\")\n",
    "    n = 3\n",
    "    yield n\n",
    "\n",
    "my_func = my_gen() # instanciamos \n",
    "print(next(my_func)) \n",
    "print(next(my_func))\n"
   ]
  },
  {
   "cell_type": "markdown",
   "metadata": {},
   "source": [
    "# generator expression\n",
    "\n",
    "- list comprenhenssion\n",
    "es un metodo de guardar todos los elementos en memoria \n",
    "```` python\n",
    "my_list = [1,2,3,4,5]\n",
    "my_second_list= [x*2 for x in my_list]\n",
    "````\n",
    "- si nesesito guardar una cantidad masiva de datos no se puede trabajar con list comprenhenssion\n",
    "\n",
    "el genertor express , me va a traer un elemento a la vez  cuando sea recorrido \n",
    "```` python\n",
    "    my_list= [0,1,2,3,4,5]\n",
    "    my_second_gen = (x*2 for x in my list)\n",
    "````"
   ]
  },
  {
   "cell_type": "code",
   "execution_count": null,
   "metadata": {},
   "outputs": [],
   "source": [
    "import time \n",
    "\n",
    "def fibo_gen(limit = int(input(\"write a number\"))):\n",
    "    n1 = 0 \n",
    "    n2 = 1 \n",
    "    count = 0\n",
    "    \n",
    "\n",
    "    while True:\n",
    "       \n",
    "       if count == 0:\n",
    "           count += 1\n",
    "           yield n1\n",
    "       elif count == 1:\n",
    "            count += 1\n",
    "            yield n2\n",
    "       else:\n",
    "            \n",
    "            count += 1\n",
    "            aux = n1 + n2\n",
    "            n1 , n2 = n2 , aux\n",
    "            if aux  == limit :\n",
    "                print (limit) \n",
    "                raise StopIteration (\"stop\")\n",
    "            yield aux\n",
    "\n",
    "if __name__=='__main__':\n",
    "    fibo = fibo_gen()\n",
    "    for i in fibo:\n",
    "        print(i)\n",
    "        time.sleep(1)\n",
    "\n",
    "\n",
    "\n",
    "              \n",
    "\n"
   ]
  },
  {
   "cell_type": "code",
   "execution_count": null,
   "metadata": {},
   "outputs": [],
   "source": []
  }
 ],
 "metadata": {
  "kernelspec": {
   "display_name": "Python 3.10.6 ('venv': venv)",
   "language": "python",
   "name": "python3"
  },
  "language_info": {
   "codemirror_mode": {
    "name": "ipython",
    "version": 3
   },
   "file_extension": ".py",
   "mimetype": "text/x-python",
   "name": "python",
   "nbconvert_exporter": "python",
   "pygments_lexer": "ipython3",
   "version": "3.10.6"
  },
  "orig_nbformat": 4,
  "vscode": {
   "interpreter": {
    "hash": "ddbd5c5aed7a1ae510f6b9d2947209e8559a5d12324b92e48bb7733f2044fa64"
   }
  }
 },
 "nbformat": 4,
 "nbformat_minor": 2
}
