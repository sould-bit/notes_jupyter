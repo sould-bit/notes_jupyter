{
 "cells": [
  {
   "cell_type": "markdown",
   "metadata": {},
   "source": [
    "presicion de decimales \n",
    "\n"
   ]
  },
  {
   "cell_type": "code",
   "execution_count": 18,
   "metadata": {},
   "outputs": [
    {
     "name": "stdout",
     "output_type": "stream",
     "text": [
      "3.3000000000000003\n",
      "= > 3.3\n"
     ]
    }
   ],
   "source": [
    "y = 1.1 + 2.2\n",
    "print(y )\n",
    "\n",
    "xy = format(y,\".2g\") # nos permite reducir las decimales pero el uotput type es str \n",
    "print(\"= >\",xy)"
   ]
  }
 ],
 "metadata": {
  "kernelspec": {
   "display_name": "Python 3.10.6 ('venv': venv)",
   "language": "python",
   "name": "python3"
  },
  "language_info": {
   "codemirror_mode": {
    "name": "ipython",
    "version": 3
   },
   "file_extension": ".py",
   "mimetype": "text/x-python",
   "name": "python",
   "nbconvert_exporter": "python",
   "pygments_lexer": "ipython3",
   "version": "3.10.6"
  },
  "orig_nbformat": 4,
  "vscode": {
   "interpreter": {
    "hash": "ddbd5c5aed7a1ae510f6b9d2947209e8559a5d12324b92e48bb7733f2044fa64"
   }
  }
 },
 "nbformat": 4,
 "nbformat_minor": 2
}
