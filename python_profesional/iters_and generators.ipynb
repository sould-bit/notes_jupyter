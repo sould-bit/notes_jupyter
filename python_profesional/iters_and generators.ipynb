{
 "cells": [
  {
   "cell_type": "markdown",
   "metadata": {},
   "source": [
    "ITERABLES \n",
    "\n",
    "\n",
    "SON AQUELLAS ESTRUCTURAS DE ELEMENTOS DIVISIBLES QUE SE PUEDEN RECORRER EN UNA ITERABLE\n",
    "\n",
    "\n",
    "\n",
    "COMO CONSTRUIR UN ITERADOR \n",
    "PROTOCOLO DE LOS ITERABLES \n",
    ": UNA CLASE CON DOS METODOS IMPORTANTES \n",
    "__ITER__ \"AND\" __NEXT__\n",
    "\n",
    "\n",
    "\n",
    "\n",
    "\n",
    ": una clase contiene dos  parametros \n",
    "\n",
    "class example():\n",
    "\n",
    "\n",
    "      def __iter__(self, max=none): \n",
    "      # self : hace referencia al objeto futuro que se va a crear en la clase \n",
    "      # max : al numero maximo de iteracciones  \" un limite \" un stopiteration "
   ]
  },
  {
   "cell_type": "markdown",
   "metadata": {},
   "source": [
    "METODOS \n",
    ":__ITER__ : REQUIERE LOS ELEMENTOS ATRIBUTOS QUE SE NESESITAN PARA QUE EL ITERADOR FUNCIONE\n",
    ": este metodo debe retonrnar el objeto en si mismo \n",
    "\n",
    "\n",
    ":__next__: NOS PERMITE EXTRAER CADA ELEMENTO DE LA ITERACION "
   ]
  },
  {
   "cell_type": "code",
   "execution_count": null,
   "metadata": {},
   "outputs": [],
   "source": [
    "import time\n",
    "class fibonachi():\n",
    "    def __iter__(self): # \n",
    "        self.n1 = 0\n",
    "        self.n2 = 1\n",
    "        self.counter = 0\n",
    "        return self\n",
    "# 1 en la iterable nesesitamos primero establecer los elementos para el iterador\n",
    "# 2 debe retornar el obejto en si mismo\n",
    "\n",
    "    def __next__(self):\n",
    "        if self.counter == 0:\n",
    "            self.counter += 1\n",
    "            return self.n1\n",
    "        elif self.counter == 1:\n",
    "            self.counter += 1\n",
    "            return self.n2\n",
    "        else:\n",
    "            self.aux = self.n1 + self.n2\n",
    "            #nesesitamos una variable que sume los dos numeros anteriores \n",
    "            self.n1 , self.n2 = self.n2 , self.aux\n",
    "            \n",
    "            return self.aux\n",
    "\n",
    "if __name__=='__main__':\n",
    "    fibo = fibonachi()\n",
    "    for i in fibo:\n",
    "        print(i)\n",
    "        time.sleep(1)\n",
    "\n",
    "\n"
   ]
  },
  {
   "cell_type": "code",
   "execution_count": 33,
   "metadata": {},
   "outputs": [
    {
     "name": "stdout",
     "output_type": "stream",
     "text": [
      "0\n",
      "1\n",
      "1\n",
      "2\n",
      "3\n",
      "5\n",
      "8\n"
     ]
    }
   ],
   "source": [
    "#challenger\n",
    "\n",
    "import time\n",
    "class fibonachi():\n",
    "\n",
    "    def __init__(self, max=None): # limitador \n",
    "        self.max = max\n",
    "\n",
    "    def __iter__(self ):\n",
    "        \n",
    "        self.n1 = 0\n",
    "        self.n2 = 1\n",
    "        self.count = 0\n",
    "        return self\n",
    "        \n",
    "    \n",
    "    def __next__(self):\n",
    "        \n",
    "        if self.count == 0 :\n",
    "            self.count  += 1\n",
    "            return self.n1\n",
    "        elif self.count == 1:\n",
    "            self.count += 1\n",
    "            return self.n2\n",
    "    \n",
    "        else:\n",
    "            self.count += 1\n",
    "            self.aux = self.n1 + self.n2\n",
    "            self.n1 , self.n2 = self.n2 , self.aux\n",
    "            if self.count  >= self.max:\n",
    "                raise StopIteration   # el raise stop , debe de ponerse estrategicamente en el codigo para la vuelta en el codigo coincida con el parametro \n",
    "            return self.aux\n",
    "\n",
    "\n",
    "if __name__=='__main__':\n",
    "    fibo = fibonachi(8)\n",
    "    for i in fibo:\n",
    "        print(i)\n",
    "        time.sleep(1)\n",
    "\n",
    "\n",
    "\n"
   ]
  }
 ],
 "metadata": {
  "kernelspec": {
   "display_name": "Python 3.10.4 64-bit",
   "language": "python",
   "name": "python3"
  },
  "language_info": {
   "codemirror_mode": {
    "name": "ipython",
    "version": 3
   },
   "file_extension": ".py",
   "mimetype": "text/x-python",
   "name": "python",
   "nbconvert_exporter": "python",
   "pygments_lexer": "ipython3",
   "version": "3.10.6"
  },
  "orig_nbformat": 4,
  "vscode": {
   "interpreter": {
    "hash": "916dbcbb3f70747c44a77c7bcd40155683ae19c65e1c03b4aa3499c5328201f1"
   }
  }
 },
 "nbformat": 4,
 "nbformat_minor": 2
}
