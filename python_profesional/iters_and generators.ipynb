{
 "cells": [
  {
   "cell_type": "markdown",
   "metadata": {
    "tags": []
   },
   "source": [
    "![python](data:image/jpeg;base64,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)\n",
    "\n",
    "# ITERABLES!\n",
    "\n",
    "\n",
    "SON AQUELLAS ESTRUCTURAS DE ELEMENTOS DIVISIBLES QUE SE PUEDEN RECORRER EN UNA ITERABLE\n",
    "\n",
    "\n",
    "\n",
    "# COMO CONSTRUIR UN ITERADOR \n",
    "- PROTOCOLO DE LOS ITERABLES \n",
    " UNA CLASE CON DOS METODOS IMPORTANTES \n",
    "\n",
    "\n",
    "```python\n",
    "      def __iter__(self):\n",
    "         pass\n",
    "      def  __NEXT__(self):\n",
    "         pass\n",
    "\n",
    "\n",
    "```\n",
    "\n",
    "\n",
    "\n",
    "- una clase contiene dos  parametros \n",
    "\n",
    "``` python\n",
    "class example():\n",
    "\n",
    "\n",
    "      def __iter__(self, max=none): \n",
    "````\n",
    "\n",
    "       self : hace referencia al objeto futuro que se va a crear en la clase \n",
    "       max : al numero maximo de iteracciones  \" un limite \" un stopiteration \n",
    "\n",
    "\n"
   ]
  },
  {
   "cell_type": "markdown",
   "metadata": {},
   "source": [
    "# METODOS \n",
    "- __ITER__  REQUIERE LOS ELEMENTOS ATRIBUTOS QUE SE NESESITAN PARA QUE EL ITERADOR FUNCIONE\n",
    " este metodo debe retonrnar el objeto en si mismo \n",
    "\n",
    "\n",
    "- __next__  NOS PERMITE EXTRAER CADA ELEMENTO DE LA ITERACION "
   ]
  },
  {
   "cell_type": "code",
   "execution_count": null,
   "metadata": {},
   "outputs": [],
   "source": [
    "import time\n",
    "class fibonachi():\n",
    "    def __iter__(self): # \n",
    "        self.n1 = 0\n",
    "        self.n2 = 1\n",
    "        self.counter = 0\n",
    "        return self\n",
    "# 1 en la iterable nesesitamos primero establecer los elementos para el iterador\n",
    "# 2 debe retornar el obejto en si mismo\n",
    "\n",
    "    def __next__(self):\n",
    "        if self.counter == 0:\n",
    "            self.counter += 1\n",
    "            return self.n1\n",
    "        elif self.counter == 1:\n",
    "            self.counter += 1\n",
    "            return self.n2\n",
    "        else:\n",
    "            self.aux = self.n1 + self.n2\n",
    "            #nesesitamos una variable que sume los dos numeros anteriores \n",
    "            self.n1 , self.n2 = self.n2 , self.aux\n",
    "            \n",
    "            return self.aux\n",
    "\n",
    "if __name__=='__main__':\n",
    "    fibo = fibonachi()\n",
    "    for i in fibo:\n",
    "        print(i)\n",
    "        time.sleep(1)\n",
    "\n",
    "\n"
   ]
  },
  {
   "cell_type": "code",
   "execution_count": 33,
   "metadata": {},
   "outputs": [
    {
     "name": "stdout",
     "output_type": "stream",
     "text": [
      "0\n",
      "1\n",
      "1\n",
      "2\n",
      "3\n",
      "5\n",
      "8\n"
     ]
    }
   ],
   "source": [
    "#challenger\n",
    "\n",
    "import time\n",
    "class fibonachi():\n",
    "\n",
    "    def __init__(self, max=None): # limitador \n",
    "        self.max = max\n",
    "\n",
    "    def __iter__(self ):\n",
    "        \n",
    "        self.n1 = 0\n",
    "        self.n2 = 1\n",
    "        self.count = 0\n",
    "        return self\n",
    "        \n",
    "    \n",
    "    def __next__(self):\n",
    "        \n",
    "        if self.count == 0 :\n",
    "            self.count  += 1\n",
    "            return self.n1\n",
    "        elif self.count == 1:\n",
    "            self.count += 1\n",
    "            return self.n2\n",
    "    \n",
    "        else:\n",
    "            self.count += 1\n",
    "            self.aux = self.n1 + self.n2\n",
    "            self.n1 , self.n2 = self.n2 , self.aux\n",
    "            if self.count  >= self.max:\n",
    "                raise StopIteration   # el raise stop , debe de ponerse estrategicamente en el codigo para la vuelta en el codigo coincida con el parametro \n",
    "            return self.aux\n",
    "\n",
    "\n",
    "if __name__=='__main__':\n",
    "    fibo = fibonachi(8) # instanciar \n",
    "    for i in fibo:\n",
    "        print(i)\n",
    "        time.sleep(1)\n",
    "\n",
    "\n",
    "\n"
   ]
  }
 ],
 "metadata": {
  "kernelspec": {
   "display_name": "Python 3.10.4 64-bit",
   "language": "python",
   "name": "python3"
  },
  "language_info": {
   "codemirror_mode": {
    "name": "ipython",
    "version": 3
   },
   "file_extension": ".py",
   "mimetype": "text/x-python",
   "name": "python",
   "nbconvert_exporter": "python",
   "pygments_lexer": "ipython3",
   "version": "3.10.6"
  },
  "orig_nbformat": 4,
  "vscode": {
   "interpreter": {
    "hash": "916dbcbb3f70747c44a77c7bcd40155683ae19c65e1c03b4aa3499c5328201f1"
   }
  }
 },
 "nbformat": 4,
 "nbformat_minor": 2
}
