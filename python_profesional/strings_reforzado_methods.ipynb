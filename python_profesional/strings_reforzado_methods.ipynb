{
 "cells": [
  {
   "cell_type": "markdown",
   "metadata": {},
   "source": [
    "# string recargado \n"
   ]
  },
  {
   "cell_type": "code",
   "execution_count": 9,
   "metadata": {},
   "outputs": [
    {
     "name": "stdout",
     "output_type": "stream",
     "text": [
      "yes\n"
     ]
    }
   ],
   "source": [
    "str = \"hello im learning py\"\n",
    "\n",
    "if 'im' in str:   # operador in \n",
    "    print(\"yes\")\n",
    "\n",
    "else:\n",
    "    print(False)"
   ]
  },
  {
   "cell_type": "markdown",
   "metadata": {},
   "source": [
    "metodo len() enumera caracteres o hasta recorre\n"
   ]
  },
  {
   "cell_type": "code",
   "execution_count": 28,
   "metadata": {},
   "outputs": [
    {
     "name": "stdout",
     "output_type": "stream",
     "text": [
      "20\n",
      "hello python example\n",
      "HELLO PYTHON EXAMPLE\n",
      "False\n",
      "hello rush example\n",
      "Hello Python Example\n",
      "False\n"
     ]
    }
   ],
   "source": [
    "x = \"hello python example\"\n",
    "print(len(x))\n",
    "\n",
    "print(x.lower())  # minus\n",
    "print(x.upper())  # mayus\n",
    "\n",
    "\n",
    "print(x.startswith('python'))\n",
    "x.endswith('python')\n",
    "\n",
    "print(x.replace('python', 'rush'))\n",
    "print(x.title()) # pone todas la primeras letras en mayus \n",
    "\n",
    "\n",
    "print(x.isdigit())  # podemos preguntar si es un posible numero \n",
    "\n"
   ]
  }
 ],
 "metadata": {
  "kernelspec": {
   "display_name": "Python 3.10.6 ('venv': venv)",
   "language": "python",
   "name": "python3"
  },
  "language_info": {
   "codemirror_mode": {
    "name": "ipython",
    "version": 3
   },
   "file_extension": ".py",
   "mimetype": "text/x-python",
   "name": "python",
   "nbconvert_exporter": "python",
   "pygments_lexer": "ipython3",
   "version": "3.10.6"
  },
  "orig_nbformat": 4,
  "vscode": {
   "interpreter": {
    "hash": "ddbd5c5aed7a1ae510f6b9d2947209e8559a5d12324b92e48bb7733f2044fa64"
   }
  }
 },
 "nbformat": 4,
 "nbformat_minor": 2
}
