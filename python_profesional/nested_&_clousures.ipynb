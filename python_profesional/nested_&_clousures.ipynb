{
 "cells": [
  {
   "cell_type": "markdown",
   "metadata": {},
   "source": [
    "# NESTED FUNCTIONS\n",
    "\n",
    "una funcion que recibe a otra funcion"
   ]
  },
  {
   "cell_type": "code",
   "execution_count": 2,
   "metadata": {},
   "outputs": [
    {
     "name": "stdout",
     "output_type": "stream",
     "text": [
      "1\n"
     ]
    }
   ],
   "source": [
    "def main():\n",
    "    a = 1 \n",
    "    def nested():  # nested \n",
    "        print(a)\n",
    "    nested()\n",
    "\n",
    "main()"
   ]
  },
  {
   "cell_type": "markdown",
   "metadata": {},
   "source": [
    "# CLOUSURE\n",
    "se da cuando una variable de scope superior es recordada por una funcion de scope inferior \n",
    "\n",
    "1. rules \n",
    "- debe  de haber una nested function\n",
    "- la nested functionse debe recordar un valor o parametro del scope superior \n",
    "- la nested function se debe retonar "
   ]
  },
  {
   "cell_type": "code",
   "execution_count": 3,
   "metadata": {},
   "outputs": [
    {
     "name": "stdout",
     "output_type": "stream",
     "text": [
      "1\n"
     ]
    }
   ],
   "source": [
    "def main():\n",
    "    a = 1 \n",
    "    def nested():  # nested \n",
    "        print(a)   # se recuerda una variable de scope o parametro superior \n",
    "    return nested  #clousure se retorna \n",
    "\n",
    "my_func =main()\n",
    "my_func()"
   ]
  },
  {
   "cell_type": "code",
   "execution_count": 12,
   "metadata": {},
   "outputs": [
    {
     "name": "stdout",
     "output_type": "stream",
     "text": [
      "hello  \n",
      "hello  \n",
      "hello  \n",
      "\n"
     ]
    }
   ],
   "source": [
    "def make_multiplayer(n):\n",
    "    def repeter(string):\n",
    "        return string  * n\n",
    "    return repeter\n",
    "\n",
    "def run():\n",
    "    repeat_3 = make_multiplayer(3)\n",
    "    print(repeat_3(\"hello  \\n\"))\n",
    "\n",
    "if __name__=='__main__':\n",
    "    run()"
   ]
  }
 ],
 "metadata": {
  "kernelspec": {
   "display_name": "Python 3.10.6 ('venv': venv)",
   "language": "python",
   "name": "python3"
  },
  "language_info": {
   "codemirror_mode": {
    "name": "ipython",
    "version": 3
   },
   "file_extension": ".py",
   "mimetype": "text/x-python",
   "name": "python",
   "nbconvert_exporter": "python",
   "pygments_lexer": "ipython3",
   "version": "3.10.6"
  },
  "orig_nbformat": 4,
  "vscode": {
   "interpreter": {
    "hash": "ddbd5c5aed7a1ae510f6b9d2947209e8559a5d12324b92e48bb7733f2044fa64"
   }
  }
 },
 "nbformat": 4,
 "nbformat_minor": 2
}
