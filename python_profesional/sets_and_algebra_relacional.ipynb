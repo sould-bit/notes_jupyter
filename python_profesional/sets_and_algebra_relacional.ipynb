{
 "cells": [
  {
   "cell_type": "markdown",
   "metadata": {},
   "source": [
    "# sets\n",
    "son elementos desordenados unicos he inmutables \n",
    "- no acepta listas ya que son elementos mutables \n",
    "\n",
    "````python\n",
    "     my_set = set() # un set vacio \n",
    "    my_set = {1,2,3 , True, \"strings\"}\n",
    "````"
   ]
  },
  {
   "cell_type": "markdown",
   "metadata": {},
   "source": [
    "- al castear un elemento como set , toma las propiedades del mismo \n",
    "eliminando los elementos repetido he inmutables "
   ]
  },
  {
   "cell_type": "code",
   "execution_count": null,
   "metadata": {},
   "outputs": [],
   "source": [
    "my_list = [1,1,2,3]\n",
    "my_list = set(my_list)\n",
    "print(my_list)"
   ]
  },
  {
   "cell_type": "markdown",
   "metadata": {},
   "source": [
    "# añadir elementos a un set "
   ]
  },
  {
   "cell_type": "code",
   "execution_count": null,
   "metadata": {},
   "outputs": [],
   "source": [
    "my_set = {1,2,3}\n",
    "\n",
    "my_set.add(4)\n",
    "print(my_set)\n",
    "\n"
   ]
  },
  {
   "cell_type": "markdown",
   "metadata": {},
   "source": [
    "# update a set \n",
    "update , le añade elementos a la vez que actualiza\n",
    "\n",
    "- update , tambien sirve para añadir otrso elementos como una tupla por ej"
   ]
  },
  {
   "cell_type": "code",
   "execution_count": null,
   "metadata": {},
   "outputs": [],
   "source": [
    "my_set.update([1,5])\n",
    "print(my_set)\n",
    "\n",
    "my_set.update([1,5],{1,8,7}) \n",
    "print(my_set)\n"
   ]
  },
  {
   "cell_type": "markdown",
   "metadata": {},
   "source": [
    "# eliminar elementos de un set \n",
    "- metodo discard \n",
    "- metodo remove  "
   ]
  },
  {
   "cell_type": "code",
   "execution_count": null,
   "metadata": {},
   "outputs": [],
   "source": [
    "my_set.remove(1) # remove , solo puede eliminar elementos existentes \n",
    "print(my_set)\n",
    "\n",
    "my_set.discard(10) # discart elimina elementos existentes o inexistentes sin elevar un error\n",
    "print(my_set)\n",
    "\n",
    "my_set.clear()\n",
    "print(my_set)"
   ]
  },
  {
   "cell_type": "markdown",
   "metadata": {},
   "source": [
    "# algebra relacional con \n",
    "\n",
    "- union : une todos los elementos: operador \"|\"\n",
    "- instersepcion : retorna solo los elementos que tienen en comun  : operador \"&\"\n",
    "- diferencia : me devuelve el set y le quita los elementos en comun de un set a otro:   operador \"-\"\n",
    "- diferencia asimetrica : nos devuelve los elementos que no se comparten en ambos : operador \"^\""
   ]
  },
  {
   "cell_type": "code",
   "execution_count": 70,
   "metadata": {},
   "outputs": [
    {
     "name": "stdout",
     "output_type": "stream",
     "text": [
      "{1, 2, 3, 4, 5, 6}\n",
      "{1}\n",
      "{2, 3}\n",
      "{4, 5, 6}\n",
      "{2, 3, 4, 5, 6}\n"
     ]
    }
   ],
   "source": [
    "my_set1= {1,2,3}\n",
    "my_set2= {1,4,5,6}\n",
    "print(my_set1 | my_set2) #   |\n",
    "\n",
    "print(my_set1 & my_set2) #   &\n",
    "\n",
    "print(my_set1 - my_set2) #   -\n",
    "print(my_set2 - my_set1) #   -  ejemplo de posicionamiento del set a retornar \n",
    "\n",
    "\n",
    "print(my_set1 ^ my_set2) #   ^"
   ]
  }
 ],
 "metadata": {
  "kernelspec": {
   "display_name": "Python 3.10.6 ('venv': venv)",
   "language": "python",
   "name": "python3"
  },
  "language_info": {
   "codemirror_mode": {
    "name": "ipython",
    "version": 3
   },
   "file_extension": ".py",
   "mimetype": "text/x-python",
   "name": "python",
   "nbconvert_exporter": "python",
   "pygments_lexer": "ipython3",
   "version": "3.10.6"
  },
  "orig_nbformat": 4,
  "vscode": {
   "interpreter": {
    "hash": "ddbd5c5aed7a1ae510f6b9d2947209e8559a5d12324b92e48bb7733f2044fa64"
   }
  }
 },
 "nbformat": 4,
 "nbformat_minor": 2
}
