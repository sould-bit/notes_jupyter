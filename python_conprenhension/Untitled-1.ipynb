{
 "cells": [
  {
   "cell_type": "code",
   "execution_count": 279,
   "metadata": {},
   "outputs": [
    {
     "name": "stdout",
     "output_type": "stream",
     "text": [
      "{'2022 Population': '45510318', '2020 Population': '45036032', '2015 Population': '43257065', '2010 Population': '41100123', '2000 Population': '37070774', '1990 Population': '32637657', '1980 Population': '28024803', '1970 Population': '23842803'}\n"
     ]
    }
   ],
   "source": [
    "# reto , \n",
    "import csv \n",
    "\n",
    "def read_csv(path):\n",
    "    with open(path, \"r\") as file:\n",
    "        read = csv.DictReader(file, delimiter=\",\")\n",
    "        \n",
    "        # for row in enumerate(read):\n",
    "            \n",
    "        #     if row[0] == 10:\n",
    "        #         print(row)\n",
    "        # for row in read:\n",
    "        #     if row['Rank'] == '33':\n",
    "        #         print(row)\n",
    "        \n",
    "        # para la variable en el iterable if (condicion) return variable\n",
    "        line = [ population for population in read if population['Rank']== '33']\n",
    "        # # recorremos  la lista con dicts,  tomando llave:valor en una tupla \n",
    "        # recorrelo conviertelo en tupla los items() llave:valor, \n",
    "        total = []\n",
    "        tupla = [tuple(d.items()) for d in line  ]\n",
    "# list[tuple[tuplitas]] ? para acceder,  la varible  la posicion[0] dela lista luego la posicion de las tuplitas\n",
    "        select = tupla[0][5:13:]\n",
    "        a = { year :value for year, value in select}\n",
    "        \n",
    "            # total += valor\n",
    "        print(a)\n",
    "        \n",
    "        \n",
    "\n",
    "            \n",
    "            \n",
    "\n",
    "\n",
    "\n",
    "\n",
    "if __name__ == \"__main__\":\n",
    "\n",
    "    read_csv('./charts_py/date.csv')\n"
   ]
  }
 ],
 "metadata": {
  "kernelspec": {
   "display_name": "conda_env",
   "language": "python",
   "name": "python3"
  },
  "language_info": {
   "codemirror_mode": {
    "name": "ipython",
    "version": 3
   },
   "file_extension": ".py",
   "mimetype": "text/x-python",
   "name": "python",
   "nbconvert_exporter": "python",
   "pygments_lexer": "ipython3",
   "version": "3.10.8"
  },
  "orig_nbformat": 4,
  "vscode": {
   "interpreter": {
    "hash": "9664ca0b515d69c3577a0ca72b73943bac7fa6e0353e0db7ac30bd4d15b3eca1"
   }
  }
 },
 "nbformat": 4,
 "nbformat_minor": 2
}
