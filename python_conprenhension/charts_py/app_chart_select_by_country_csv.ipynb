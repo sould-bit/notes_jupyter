{
 "cells": [
  {
   "cell_type": "code",
   "execution_count": 2,
   "metadata": {},
   "outputs": [],
   "source": [
    "# reto , \n",
    "import csv \n",
    "\n",
    "\n",
    "def read_csv(path):\n",
    "    with open(path, \"r\") as file:\n",
    "        read = csv.DictReader(file, delimiter=\",\")\n",
    "        \n",
    "        # for row in enumerate(read):\n",
    "            \n",
    "        #     if row[0] == 10:\n",
    "        #         print(row)\n",
    "        # for row in read:\n",
    "        #     if row['Rank'] == '33':\n",
    "        #         print(row)\n",
    "        a = input()\n",
    "# para la variable en el iterable if (condicion) return variable\n",
    "        line = [ population for population in read if population ['Country/Territory']==  a]\n",
    "# # recorremos  la lista con dicts,  tomando llave:valor en una tupla \n",
    "# recorrelo conviertelo en tupla los items() llave:valor, \n",
    "        \n",
    "        tupla = [tuple(d.items()) for d in line  ]\n",
    "# list[tuple[tuplitas]] ? para acceder,  la varible  la posicion[0] dela lista luego la posicion de las tuplitas\n",
    "        select = tupla[0][5:13:]\n",
    "        items = { year :int(value)  for year, value in select}\n",
    "        year, number = items.keys(), items.values()\n",
    "        return year, number\n",
    "        \n",
    "\n",
    "        \n",
    "\n",
    "            \n",
    "            \n",
    "\n",
    "\n",
    "\n",
    "\n",
    "    \n"
   ]
  },
  {
   "cell_type": "code",
   "execution_count": 4,
   "metadata": {},
   "outputs": [
    {
     "data": {
      "image/png": "[encoded data removed]",
      "text/plain": [
       "<Figure size 640x480 with 1 Axes>"
      ]
     },
     "metadata": {},
     "output_type": "display_data"
    }
   ],
   "source": [
    "import matplotlib.pyplot as plt\n",
    "\n",
    "def generate_cahrt(labels,values ):\n",
    "    fig, ax = plt.subplots()\n",
    "    ax.bar(labels, values)\n",
    "    plt.show()\n",
    "\n",
    "if __name__ == \"__main__\":\n",
    "    labels, values = read_csv('./date.csv')\n",
    "    generate_cahrt(labels,values)"
   ]
  },
  {
   "cell_type": "code",
   "execution_count": 5,
   "metadata": {},
   "outputs": [
    {
     "ename": "AssertionError",
     "evalue": "",
     "output_type": "error",
     "traceback": [
      "\u001b[0;31m---------------------------------------------------------------------------\u001b[0m",
      "\u001b[0;31mAssertionError\u001b[0m                            Traceback (most recent call last)",
      "Cell \u001b[0;32mIn[5], line 1\u001b[0m\n\u001b[0;32m----> 1\u001b[0m \u001b[39massert\u001b[39;00m \u001b[39mTrue\u001b[39;00m \u001b[39m==\u001b[39m \u001b[39mFalse\u001b[39;00m\n",
      "\u001b[0;31mAssertionError\u001b[0m: "
     ]
    }
   ],
   "source": [
    "assert True == False"
   ]
  }
 ],
 "metadata": {
  "kernelspec": {
   "display_name": "conda_env",
   "language": "python",
   "name": "python3"
  },
  "language_info": {
   "codemirror_mode": {
    "name": "ipython",
    "version": 3
   },
   "file_extension": ".py",
   "mimetype": "text/x-python",
   "name": "python",
   "nbconvert_exporter": "python",
   "pygments_lexer": "ipython3",
   "version": "3.10.8"
  },
  "orig_nbformat": 4,
  "vscode": {
   "interpreter": {
    "hash": "9664ca0b515d69c3577a0ca72b73943bac7fa6e0353e0db7ac30bd4d15b3eca1"
   }
  }
 },
 "nbformat": 4,
 "nbformat_minor": 2
}
