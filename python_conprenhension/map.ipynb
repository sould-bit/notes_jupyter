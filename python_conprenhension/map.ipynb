{
 "cells": [
  {
   "cell_type": "markdown",
   "metadata": {},
   "source": [
    "# MAP \n",
    "- ejecuta una funcion especifica para cada elemento de un iterable y el elemento se envia a la funcion como un parametro \n"
   ]
  },
  {
   "cell_type": "code",
   "execution_count": 11,
   "metadata": {},
   "outputs": [
    {
     "name": "stdout",
     "output_type": "stream",
     "text": [
      "<class 'list'> [2, 4, 6, 8]\n"
     ]
    }
   ],
   "source": [
    "numbers = [1,2,3,4]\n",
    "result = list(map(lambda i: i * 2, numbers ))\n",
    "print(type(result),result)"
   ]
  },
  {
   "cell_type": "markdown",
   "metadata": {},
   "source": [
    "# another example \n"
   ]
  },
  {
   "cell_type": "code",
   "execution_count": 50,
   "metadata": {},
   "outputs": [
    {
     "name": "stdout",
     "output_type": "stream",
     "text": [
      "[6, 8, 10, 12]\n"
     ]
    }
   ],
   "source": [
    "numbers = [1,2,3,4]\n",
    "numbers2 = [5,6,7,8,9]\n",
    "\n",
    "# esta funcion toma , dos listas y las suma \n",
    "result = list(map(lambda x , y : x + y, numbers ,numbers2))\n",
    "print(result)\n",
    "\n",
    "\n"
   ]
  },
  {
   "cell_type": "code",
   "execution_count": 54,
   "metadata": {},
   "outputs": [
    {
     "name": "stdout",
     "output_type": "stream",
     "text": [
      "[2, 4, 6, 8, 10]\n",
      "[2, 4, 6, 8, 10]\n"
     ]
    }
   ],
   "source": [
    "numbers = [1,2,3,4,5]\n",
    "\n",
    "result = list(map(lambda i: i *2 , numbers))\n",
    "print(result)\n",
    "\n",
    "# list comprenhension \n",
    "resultl = [i * 2 for i in numbers]\n",
    "print(resultl)\n",
    "\n",
    "\n"
   ]
  },
  {
   "cell_type": "markdown",
   "metadata": {},
   "source": [
    "# DICT CON MAP "
   ]
  },
  {
   "cell_type": "code",
   "execution_count": 61,
   "metadata": {},
   "outputs": [
    {
     "name": "stdout",
     "output_type": "stream",
     "text": [
      "300\n",
      "200\n",
      "300\n",
      "[300, 200, 300]\n",
      "[300, 200, 300]\n",
      "[{'producto': 'camisa ', 'price': 300}, {'product': 'pantalon', 'price': 200}, {'product': 'pantalon', 'price': 300}]\n"
     ]
    }
   ],
   "source": [
    "lis = [\n",
    "    {\n",
    "        'producto' : 'camisa ',\n",
    "        'price': 300\n",
    "    },\n",
    "\n",
    "    {\n",
    "        'product': 'pantalon',\n",
    "        'price' : 200\n",
    "    },\n",
    "    {\n",
    "        'product': 'pantalon',\n",
    "        'price' : 300\n",
    "    }\n",
    "\n",
    "\n",
    "]\n",
    " # una funcion clasica \n",
    "def iter():\n",
    "    for i in lis:\n",
    "         print(i['price'])\n",
    "iter()\n",
    "\n",
    "# una list comprenhension\n",
    "com = [iter['price'] for iter in lis]\n",
    "print(com)\n",
    "\n",
    "# un map con la funcion lambda\n",
    "result = list(map(lambda iter: iter['price'], lis))\n",
    "print(result)\n"
   ]
  },
  {
   "cell_type": "code",
   "execution_count": 70,
   "metadata": {},
   "outputs": [
    {
     "name": "stdout",
     "output_type": "stream",
     "text": [
      "[{'producto': 'camisa ', 'price': 300, 'taxes': 57.0}, {'product': 'pantalon', 'price': 200, 'taxes': 38.0}, {'product': 'pantalon', 'price': 300, 'taxes': 57.0}]\n",
      "[{'producto': 'camisa ', 'price': 300, 'taxes': 57.0}, {'product': 'pantalon', 'price': 200, 'taxes': 38.0}, {'product': 'pantalon', 'price': 300, 'taxes': 57.0}]\n"
     ]
    }
   ],
   "source": [
    "# agregar un elemento \n",
    "# no podemos hacer un map con una lambda directamente \n",
    "# una lamda solo recibe un parametro , y retorna un elemento \n",
    "# en este caso se nesesita tener el item agregar el elemento y retornar \n",
    "\n",
    "def add_taxes(item):\n",
    "    item_cp = item.copy()\n",
    "    item_cp['taxes'] = item_cp['price'] * 0.19\n",
    "    return item_cp\n",
    "        \n",
    "new_items = list(map(add_taxes, lis ))\n",
    "print(new_items)\n",
    "print(lis)"
   ]
  }
 ],
 "metadata": {
  "kernelspec": {
   "display_name": "Python 3.10.6 64-bit",
   "language": "python",
   "name": "python3"
  },
  "language_info": {
   "codemirror_mode": {
    "name": "ipython",
    "version": 3
   },
   "file_extension": ".py",
   "mimetype": "text/x-python",
   "name": "python",
   "nbconvert_exporter": "python",
   "pygments_lexer": "ipython3",
   "version": "3.10.6"
  },
  "orig_nbformat": 4,
  "vscode": {
   "interpreter": {
    "hash": "31f2aee4e71d21fbe5cf8b01ff0e069b9275f58929596ceb00d14d90e3e16cd6"
   }
  }
 },
 "nbformat": 4,
 "nbformat_minor": 2
}
