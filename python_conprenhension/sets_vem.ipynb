{
 "cells": [
  {
   "cell_type": "markdown",
   "metadata": {},
   "source": [
    "# sets and operators\n",
    "\n",
    "- union \n",
    "nos devuelve la union de los elementos \n",
    "- intersepcion \n",
    "nos devuelve los elementos en comun \n",
    "- diferencia \n",
    "nos da el los elementos de la primeta tabla sin los elementos que tiene en comun con la segunda tabla \n",
    "- diferencia asimetrica\n",
    "nos devuelve la union de los dos conjuntos sin , los elementos comunes de los mismos , ignora lo que tienen en comun "
   ]
  },
  {
   "cell_type": "code",
   "execution_count": 5,
   "metadata": {},
   "outputs": [
    {
     "name": "stdout",
     "output_type": "stream",
     "text": [
      "{1, 2, 3, 4, 5, 6, 7, 8}\n",
      "{4}\n",
      "{1, 2, 3}\n",
      "{1, 2, 3, 5, 6, 7, 8}\n"
     ]
    }
   ],
   "source": [
    "set ={1,2,3,4}\n",
    "set_b = {4,5,6,7,8}\n",
    "\n",
    "\n",
    "var = set | set_b\n",
    "print(var)\n",
    "\n",
    "inter = set & set_b\n",
    "print(inter)\n",
    "\n",
    "diferencia = set - set_b\n",
    "\n",
    "print(diferencia)\n",
    "\n",
    "diferencia_asimetrica = set ^ set_b\n",
    "print(diferencia_asimetrica)"
   ]
  }
 ],
 "metadata": {
  "kernelspec": {
   "display_name": "Python 3.10.6 64-bit",
   "language": "python",
   "name": "python3"
  },
  "language_info": {
   "codemirror_mode": {
    "name": "ipython",
    "version": 3
   },
   "file_extension": ".py",
   "mimetype": "text/x-python",
   "name": "python",
   "nbconvert_exporter": "python",
   "pygments_lexer": "ipython3",
   "version": "3.10.6"
  },
  "orig_nbformat": 4,
  "vscode": {
   "interpreter": {
    "hash": "916dbcbb3f70747c44a77c7bcd40155683ae19c65e1c03b4aa3499c5328201f1"
   }
  }
 },
 "nbformat": 4,
 "nbformat_minor": 2
}
