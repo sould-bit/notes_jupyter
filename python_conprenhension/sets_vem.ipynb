{
 "cells": [
  {
   "cell_type": "markdown",
   "metadata": {},
   "source": [
    "# sets and operators\n",
    "\n",
    "- union \n",
    "nos devuelve la union de los elementos \n",
    "- intersepcion \n",
    "nos devuelve los elementos en comun \n",
    "- diferencia \n",
    "nos da el los elementos de la primeta tabla sin los elementos que tiene en comun con la segunda tabla \n",
    "- diferencia asimetrica\n",
    "nos devuelve la union de los dos conjuntos sin , los elementos comunes de los mismos , ignora lo que tienen en comun "
   ]
  },
  {
   "cell_type": "code",
   "execution_count": 5,
   "metadata": {},
   "outputs": [
    {
     "name": "stdout",
     "output_type": "stream",
     "text": [
      "{1, 2, 3, 4, 5, 6, 7, 8}\n",
      "{4}\n",
      "{1, 2, 3}\n",
      "{1, 2, 3, 5, 6, 7, 8}\n"
     ]
    }
   ],
   "source": [
    "set ={1,2,3,4}\n",
    "set_b = {4,5,6,7,8}\n",
    "\n",
    "\n",
    "var = set | set_b\n",
    "print(var)\n",
    "\n",
    "inter = set & set_b\n",
    "print(inter)\n",
    "\n",
    "diferencia = set - set_b\n",
    "\n",
    "print(diferencia)\n",
    "\n",
    "diferencia_asimetrica = set ^ set_b\n",
    "print(diferencia_asimetrica)"
   ]
  }
 ],
 "metadata": {
  "kernelspec": {
   "display_name": "Python 3",
   "language": "python",
   "name": "python3"
  },
  "language_info": {
   "codemirror_mode": {
    "name": "ipython",
    "version": 3
   },
   "file_extension": ".py",
   "mimetype": "text/x-python",
   "name": "python",
   "nbconvert_exporter": "python",
   "pygments_lexer": "ipython3",
   "version": "3.10.6 (main, Nov 14 2022, 16:10:14) [GCC 11.3.0]"
  },
  "orig_nbformat": 4,
  "vscode": {
   "interpreter": {
    "hash": "31f2aee4e71d21fbe5cf8b01ff0e069b9275f58929596ceb00d14d90e3e16cd6"
   }
  }
 },
 "nbformat": 4,
 "nbformat_minor": 2
}
