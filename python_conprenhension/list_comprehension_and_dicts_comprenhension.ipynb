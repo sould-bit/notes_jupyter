{
 "cells": [
  {
   "cell_type": "code",
   "execution_count": null,
   "metadata": {},
   "outputs": [],
   "source": [
    "numbers = []\n",
    "for element in range(1,11):\n",
    "    numbers.append(element)\n",
    "print(numbers)\n",
    "\n"
   ]
  },
  {
   "cell_type": "markdown",
   "metadata": {},
   "source": [
    ">  \n",
    "! [visualizacion](https://th.bing.com/th/id/OIP.zU4dHGtXu-axzKLTxLU7YgAAAA?w=307&h=109&c=7&r=0&o=5&pid=1.7)\n"
   ]
  },
  {
   "cell_type": "code",
   "execution_count": null,
   "metadata": {},
   "outputs": [],
   "source": [
    "import random\n",
    "numbers = [element *2 for element in range(1,11)]\n",
    "print(numbers)\n",
    "\n",
    "par =[i for i in range(1,11) if i % 2 != 0]\n",
    "print(par)\n"
   ]
  },
  {
   "cell_type": "markdown",
   "metadata": {},
   "source": [
    "# DICTS COMPREHENSION\n",
    "> la misma sintaxis de los list se pueden aplicar a los dicts"
   ]
  },
  {
   "cell_type": "code",
   "execution_count": null,
   "metadata": {},
   "outputs": [],
   "source": [
    "dic = {}\n",
    "for valuekey in range(1,11):\n",
    "    dic[valuekey] = \"value_element\"\n",
    "print(dic)"
   ]
  },
  {
   "cell_type": "code",
   "execution_count": null,
   "metadata": {},
   "outputs": [],
   "source": [
    "countries =['col','mex']\n",
    "\n",
    "dic = {key: countries for key in range(1,11) }\n",
    "print(dic)"
   ]
  },
  {
   "cell_type": "code",
   "execution_count": null,
   "metadata": {},
   "outputs": [],
   "source": [
    "names = ['nico', 'zule', \"santi\"]\n",
    "edades = [12,56,98]\n",
    "\n",
    "dic = {names :edades for names,edades in zip(names,edades)}\n",
    "print(dic)"
   ]
  },
  {
   "cell_type": "code",
   "execution_count": null,
   "metadata": {},
   "outputs": [],
   "source": [
    "import random\n",
    " \n",
    "countries =['col','mex']\n",
    "\n",
    "com = { countries: random.randint(1,9) for countries in countries}\n",
    "print(com)\n",
    "\n",
    "\n",
    "condi = {key :popu for key,popu in com.items()if popu > 4}\n",
    "print(condi)"
   ]
  },
  {
   "cell_type": "code",
   "execution_count": null,
   "metadata": {
    "tags": [
     "c"
    ]
   },
   "outputs": [],
   "source": [
    "text = \"holaa, soy nicolas\"\n",
    "\n",
    "unique = {c : text.count(c) for c in text if c in 'aeiou'}\n",
    "print(unique)\n"
   ]
  }
 ],
 "metadata": {
  "kernelspec": {
   "display_name": "Python 3.10.6 64-bit",
   "language": "python",
   "name": "python3"
  },
  "language_info": {
   "codemirror_mode": {
    "name": "ipython",
    "version": 3
   },
   "file_extension": ".py",
   "mimetype": "text/x-python",
   "name": "python",
   "nbconvert_exporter": "python",
   "pygments_lexer": "ipython3",
   "version": "3.10.6"
  },
  "orig_nbformat": 4,
  "vscode": {
   "interpreter": {
    "hash": "916dbcbb3f70747c44a77c7bcd40155683ae19c65e1c03b4aa3499c5328201f1"
   }
  }
 },
 "nbformat": 4,
 "nbformat_minor": 2
}
