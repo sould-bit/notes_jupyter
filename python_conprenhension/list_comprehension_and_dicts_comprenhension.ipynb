{
 "cells": [
  {
   "cell_type": "code",
   "execution_count": 1,
   "metadata": {},
   "outputs": [
    {
     "name": "stdout",
     "output_type": "stream",
     "text": [
      "[1, 2, 3, 4, 5, 6, 7, 8, 9, 10]\n"
     ]
    }
   ],
   "source": [
    "numbers = []\n",
    "for element in range(1,11):\n",
    "    numbers.append(element)\n",
    "print(numbers)\n",
    "\n"
   ]
  },
  {
   "cell_type": "markdown",
   "metadata": {},
   "source": [
    ">  \n",
    "! [visualizacion](https://th.bing.com/th/id/OIP.zU4dHGtXu-axzKLTxLU7YgAAAA?w=307&h=109&c=7&r=0&o=5&pid=1.7)\n"
   ]
  },
  {
   "cell_type": "code",
   "execution_count": 7,
   "metadata": {},
   "outputs": [
    {
     "name": "stdout",
     "output_type": "stream",
     "text": [
      "[2, 4, 6, 8, 10, 12, 14, 16, 18, 20]\n",
      "[1, 3, 5, 7, 9]\n"
     ]
    }
   ],
   "source": [
    "import random\n",
    "numbers = [element *2 for element in range(1,11)]\n",
    "print(numbers)\n",
    "\n",
    "par =[i for i in range(1,11) if i % 2 != 0]\n",
    "print(par)\n"
   ]
  },
  {
   "cell_type": "markdown",
   "metadata": {},
   "source": [
    "# DICTS COMPREHENSION\n",
    "> la misma sintaxis de los list se pueden aplicar a los dicts"
   ]
  },
  {
   "cell_type": "code",
   "execution_count": 9,
   "metadata": {},
   "outputs": [
    {
     "name": "stdout",
     "output_type": "stream",
     "text": [
      "{1: 'value_element', 2: 'value_element', 3: 'value_element', 4: 'value_element', 5: 'value_element', 6: 'value_element', 7: 'value_element', 8: 'value_element', 9: 'value_element', 10: 'value_element'}\n"
     ]
    }
   ],
   "source": [
    "dic = {}\n",
    "for valuekey in range(1,11):\n",
    "    dic[valuekey] = \"value_element\"\n",
    "print(dic)"
   ]
  },
  {
   "cell_type": "code",
   "execution_count": 29,
   "metadata": {},
   "outputs": [
    {
     "name": "stdout",
     "output_type": "stream",
     "text": [
      "{1: ['col', 'mex'], 2: ['col', 'mex'], 3: ['col', 'mex'], 4: ['col', 'mex'], 5: ['col', 'mex'], 6: ['col', 'mex'], 7: ['col', 'mex'], 8: ['col', 'mex'], 9: ['col', 'mex'], 10: ['col', 'mex']}\n"
     ]
    }
   ],
   "source": [
    "countries =['col','mex']\n",
    "\n",
    "dic = {key: countries for key in range(1,11) }\n",
    "print(dic)"
   ]
  },
  {
   "cell_type": "code",
   "execution_count": 47,
   "metadata": {},
   "outputs": [
    {
     "name": "stdout",
     "output_type": "stream",
     "text": [
      "{'nico': 12, 'zule': 56, 'santi': 98}\n"
     ]
    }
   ],
   "source": [
    "names = ['nico', 'zule', \"santi\"]\n",
    "edades = [12,56,98]\n",
    "\n",
    "dic = {names :edades for names,edades in zip(names,edades)}\n",
    "print(dic)"
   ]
  },
  {
   "cell_type": "code",
   "execution_count": 107,
   "metadata": {},
   "outputs": [
    {
     "name": "stdout",
     "output_type": "stream",
     "text": [
      "{'col': 9, 'mex': 2}\n",
      "{'col': 9}\n"
     ]
    }
   ],
   "source": [
    "import random\n",
    " \n",
    "countries =['col','mex']\n",
    "\n",
    "com = { countries: random.randint(1,9) for countries in countries}\n",
    "print(com)\n",
    "\n",
    "\n",
    "condi = {key :popu for key,popu in com.items()if popu > 4}\n",
    "print(condi)"
   ]
  }
 ],
 "metadata": {
  "kernelspec": {
   "display_name": "Python 3.10.6 64-bit",
   "language": "python",
   "name": "python3"
  },
  "language_info": {
   "codemirror_mode": {
    "name": "ipython",
    "version": 3
   },
   "file_extension": ".py",
   "mimetype": "text/x-python",
   "name": "python",
   "nbconvert_exporter": "python",
   "pygments_lexer": "ipython3",
   "version": "3.10.6"
  },
  "orig_nbformat": 4,
  "vscode": {
   "interpreter": {
    "hash": "916dbcbb3f70747c44a77c7bcd40155683ae19c65e1c03b4aa3499c5328201f1"
   }
  }
 },
 "nbformat": 4,
 "nbformat_minor": 2
}
