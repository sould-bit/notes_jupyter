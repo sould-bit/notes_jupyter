{
 "cells": [
  {
   "cell_type": "code",
   "execution_count": null,
   "metadata": {},
   "outputs": [],
   "source": [
    "numbers = []\n",
    "for element in range(1,11):\n",
    "    numbers.append(element)\n",
    "print(numbers)\n",
    "\n"
   ]
  },
  {
   "cell_type": "markdown",
   "metadata": {},
   "source": [
    "# list\n",
    ">  \n",
    "! [visualizacion](https://th.bing.com/th/id/OIP.zU4dHGtXu-axzKLTxLU7YgAAAA?w=307&h=109&c=7&r=0&o=5&pid=1.7)\n"
   ]
  },
  {
   "cell_type": "code",
   "execution_count": null,
   "metadata": {},
   "outputs": [],
   "source": [
    "import random\n",
    "numbers = [element *2 for element in range(1,11)]\n",
    "print(numbers)\n",
    "\n",
    "par =[i for i in range(1,11) if i % 2 != 0]\n",
    "print(par)\n"
   ]
  },
  {
   "cell_type": "markdown",
   "metadata": {},
   "source": [
    "# DICTS COMPREHENSION\n",
    "> la misma sintaxis de los list se pueden aplicar a los dicts"
   ]
  },
  {
   "cell_type": "code",
   "execution_count": null,
   "metadata": {},
   "outputs": [],
   "source": [
    "dic = {}\n",
    "for valuekey in range(1,11):\n",
    "    dic[valuekey] = \"value_element\"\n",
    "print(dic)"
   ]
  },
  {
   "cell_type": "code",
   "execution_count": 1,
   "metadata": {},
   "outputs": [
    {
     "name": "stdout",
     "output_type": "stream",
     "text": [
      "{1: ['col', 'mex'], 2: ['col', 'mex'], 3: ['col', 'mex'], 4: ['col', 'mex'], 5: ['col', 'mex'], 6: ['col', 'mex'], 7: ['col', 'mex'], 8: ['col', 'mex'], 9: ['col', 'mex'], 10: ['col', 'mex']}\n"
     ]
    }
   ],
   "source": [
    "countries =['col','mex']\n",
    "\n",
    "dic = {key: countries for key in range(1,11) }\n",
    "print(dic)"
   ]
  },
  {
   "cell_type": "code",
   "execution_count": null,
   "metadata": {},
   "outputs": [],
   "source": [
    "names = ['nico', 'zule', \"santi\"]\n",
    "edades = [12,56,98]\n",
    "\n",
    "dic = {names :edades for names,edades in zip(names,edades)}\n",
    "print(dic)"
   ]
  },
  {
   "cell_type": "code",
   "execution_count": 76,
   "metadata": {},
   "outputs": [
    {
     "name": "stdout",
     "output_type": "stream",
     "text": [
      "{'col': 10, 'mex': 3}\n",
      "{}\n",
      "{'o': 'O', 'a': 'A', 'i': 'I'}\n"
     ]
    }
   ],
   "source": [
    "import random\n",
    "#nesesitamos darle cantidades a los paises  \n",
    "countries =['col','mex']\n",
    "\n",
    "var = {country: random.randint(1,15) for country in countries }\n",
    "print(var)\n",
    "\n",
    "\n",
    "\n",
    "\n",
    "population = {country: population for country,population in var.items() if population> 10}\n",
    "print(population)\n",
    "\n",
    "\n",
    "\n",
    "text = 'Hola soy nicolas'\n",
    "\n",
    "unique = {c: c.upper() for c in text if c in 'aeiou'}\n",
    "print(unique)\n",
    "\n",
    "\n",
    "\n",
    "\n"
   ]
  }
 ],
 "metadata": {
  "kernelspec": {
   "display_name": "Python 3",
   "language": "python",
   "name": "python3"
  },
  "language_info": {
   "codemirror_mode": {
    "name": "ipython",
    "version": 3
   },
   "file_extension": ".py",
   "mimetype": "text/x-python",
   "name": "python",
   "nbconvert_exporter": "python",
   "pygments_lexer": "ipython3",
   "version": "3.10.6 (main, Nov 14 2022, 16:10:14) [GCC 11.3.0]"
  },
  "orig_nbformat": 4,
  "vscode": {
   "interpreter": {
    "hash": "916dbcbb3f70747c44a77c7bcd40155683ae19c65e1c03b4aa3499c5328201f1"
   }
  }
 },
 "nbformat": 4,
 "nbformat_minor": 2
}
