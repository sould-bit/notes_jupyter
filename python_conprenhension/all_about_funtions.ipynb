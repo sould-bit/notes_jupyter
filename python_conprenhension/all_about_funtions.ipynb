{
 "cells": [
  {
   "cell_type": "markdown",
   "metadata": {},
   "source": [
    "# THIS IS FUNCTION  \n"
   ]
  },
  {
   "cell_type": "code",
   "execution_count": 43,
   "metadata": {},
   "outputs": [
    {
     "name": "stdout",
     "output_type": "stream",
     "text": [
      "12\n"
     ]
    }
   ],
   "source": [
    "def profundidad(length, withd,depth):\n",
    "    return length * withd * depth \n",
    "\n",
    "p = profundidad(2,2,3)\n",
    "print(p)"
   ]
  },
  {
   "cell_type": "markdown",
   "metadata": {},
   "source": [
    "- METODOS "
   ]
  },
  {
   "cell_type": "code",
   "execution_count": 50,
   "metadata": {},
   "outputs": [
    {
     "name": "stdout",
     "output_type": "stream",
     "text": [
      "12\n"
     ]
    }
   ],
   "source": [
    "# si no le enviamos nada a la funcion , podemos asignar un valor por defecto \n",
    "def profundidad(length = 2, withd = 1,depth= 2):\n",
    "    return length * withd * depth \n",
    "\n",
    "var  = profundidad(withd=3)\n",
    "print(var)"
   ]
  },
  {
   "cell_type": "markdown",
   "metadata": {},
   "source": [
    "# RETONRNAR MAS DE UNA FUNCION "
   ]
  },
  {
   "cell_type": "code",
   "execution_count": 59,
   "metadata": {},
   "outputs": [
    {
     "name": "stdout",
     "output_type": "stream",
     "text": [
      "12\n",
      "3\n"
     ]
    }
   ],
   "source": [
    "#  se puede retornar , varios valores ademas del logico \n",
    "\n",
    "def profundidad(length = 2, withd = 1,depth= 2):\n",
    "    return length * withd * depth , withd, 'string'\n",
    "\n",
    "    #  retornar varios valores me devuelve una tupla: \n",
    "\n",
    "var , pos1, pos2 = profundidad(withd=3)\n",
    "\n",
    "print(var)\n",
    "print(pos1)"
   ]
  },
  {
   "cell_type": "markdown",
   "metadata": {},
   "source": [
    "# lamda funtions\n"
   ]
  },
  {
   "cell_type": "code",
   "execution_count": 29,
   "metadata": {},
   "outputs": [
    {
     "name": "stdout",
     "output_type": "stream",
     "text": [
      "11\n",
      "2\n"
     ]
    },
    {
     "data": {
      "text/plain": [
       "'full name is Jhon Stiven'"
      ]
     },
     "execution_count": 29,
     "metadata": {},
     "output_type": "execute_result"
    }
   ],
   "source": [
    "def fun(x):\n",
    "    return x + 1\n",
    "var = fun(10)\n",
    "print(var)\n",
    "\n",
    "# las lambdas se defines en una sola linea , parametro  retornar algo \n",
    "fun1 = lambda operation : operation + 1  \n",
    "var1 = fun1(1)\n",
    "print(var1)\n",
    "\n",
    "\n",
    "full_name = lambda name, last_name : f'full name is {name.title()} {last_name.title()}'\n",
    "\n",
    "full_name('jhon', 'stiven')\n",
    "# print(var2)"
   ]
  },
  {
   "cell_type": "markdown",
   "metadata": {},
   "source": [
    "# higher order function \n",
    "- una funcion que recibe como paremetro otra funcion \n"
   ]
  },
  {
   "cell_type": "code",
   "execution_count": 12,
   "metadata": {},
   "outputs": [
    {
     "name": "stdout",
     "output_type": "stream",
     "text": [
      "6\n",
      "6\n"
     ]
    }
   ],
   "source": [
    "#una funcion que incrementa su variable x \n",
    "def increment(x):\n",
    "    return x + 1\n",
    "\n",
    "\n",
    "# recibe como paarametro una funcion \n",
    "def higher_order(x:int, func):  # high order funtion\n",
    "    return x * func(x) # el valor del  parametro de la funcion es el mismo del primero \n",
    "\n",
    "#se le pasa la funcion que queremos ejecutar como parametro de la funcion \n",
    "result = higher_order(2, increment)\n",
    "\n",
    "# podemos pasar de na vez una funcion lambda definida \n",
    "resultv2 = higher_order(2, lambda x: x +1 )\n",
    "print(result)\n",
    "# print(resultv2)\n",
    "\n",
    "\n"
   ]
  },
  {
   "cell_type": "markdown",
   "metadata": {},
   "source": [
    "# HIGH ORDER FUNTION LAMBDA "
   ]
  },
  {
   "cell_type": "code",
   "execution_count": 13,
   "metadata": {},
   "outputs": [
    {
     "name": "stdout",
     "output_type": "stream",
     "text": [
      "6\n"
     ]
    }
   ],
   "source": [
    "higher_orderv2 = lambda x, func: x * func(x)\n",
    "\n",
    "resultv22 = higher_orderv2(2,lambda x : x + 1 ) \n",
    "print(resultv2)"
   ]
  }
 ],
 "metadata": {
  "kernelspec": {
   "display_name": "Python 3",
   "language": "python",
   "name": "python3"
  },
  "language_info": {
   "codemirror_mode": {
    "name": "ipython",
    "version": 3
   },
   "file_extension": ".py",
   "mimetype": "text/x-python",
   "name": "python",
   "nbconvert_exporter": "python",
   "pygments_lexer": "ipython3",
   "version": "3.10.6 (main, Nov 14 2022, 16:10:14) [GCC 11.3.0]"
  },
  "orig_nbformat": 4,
  "vscode": {
   "interpreter": {
    "hash": "916dbcbb3f70747c44a77c7bcd40155683ae19c65e1c03b4aa3499c5328201f1"
   }
  }
 },
 "nbformat": 4,
 "nbformat_minor": 2
}
