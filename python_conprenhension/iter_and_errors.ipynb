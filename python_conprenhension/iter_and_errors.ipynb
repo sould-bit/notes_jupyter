{
 "cells": [
  {
   "attachments": {},
   "cell_type": "markdown",
   "metadata": {},
   "source": [
    "# ITERADORES \n",
    "- SOMTIMES  requeriremos de esto ya sea con condicion o no "
   ]
  },
  {
   "cell_type": "code",
   "execution_count": 11,
   "metadata": {},
   "outputs": [
    {
     "name": "stdout",
     "output_type": "stream",
     "text": [
      "<range_iterator object at 0x7ff586a97870>\n"
     ]
    }
   ],
   "source": [
    "i = iter(range(1,10))\n",
    "next(i)\n",
    "next(i)\n",
    "next(i)\n",
    "print(i\n",
    ")\n"
   ]
  },
  {
   "attachments": {},
   "cell_type": "markdown",
   "metadata": {},
   "source": [
    "# ERROR\n",
    "- \n"
   ]
  },
  {
   "cell_type": "code",
   "execution_count": 16,
   "metadata": {},
   "outputs": [
    {
     "name": "stdout",
     "output_type": "stream",
     "text": [
      "hi\n"
     ]
    }
   ],
   "source": [
    "suma = lambda x,y: x + y\n",
    "\n",
    "assert suma(2,3)  ==5\n",
    "\n",
    "print('hi')"
   ]
  },
  {
   "attachments": {},
   "cell_type": "markdown",
   "metadata": {},
   "source": [
    "# RAISE EXEPCION\n",
    "- SI LA CONDICION NO SE CUMPLE MANEJAMOS EL TRACEBAAK ERROR "
   ]
  },
  {
   "cell_type": "code",
   "execution_count": null,
   "metadata": {},
   "outputs": [],
   "source": [
    "age = 20 \n",
    "if age <21 :\n",
    "    raise Exception ('you are >')\n"
   ]
  },
  {
   "attachments": {},
   "cell_type": "markdown",
   "metadata": {},
   "source": [
    "# MANEJO DE ERRORES DE MANERA PRO \n",
    "- ESTE MANEJO ES UNA BUENA PRACTICA     "
   ]
  },
  {
   "cell_type": "code",
   "execution_count": 27,
   "metadata": {},
   "outputs": [
    {
     "name": "stdout",
     "output_type": "stream",
     "text": [
      "division by zero\n",
      "hol<\n"
     ]
    }
   ],
   "source": [
    "try:\n",
    "    print(0/0)\n",
    "except ZeroDivisionError as error:\n",
    "\n",
    "    print(error)\n",
    "\n",
    "print(\"hol<\")"
   ]
  }
 ],
 "metadata": {
  "kernelspec": {
   "display_name": "venv",
   "language": "python",
   "name": "python3"
  },
  "language_info": {
   "codemirror_mode": {
    "name": "ipython",
    "version": 3
   },
   "file_extension": ".py",
   "mimetype": "text/x-python",
   "name": "python",
   "nbconvert_exporter": "python",
   "pygments_lexer": "ipython3",
   "version": "3.10.6"
  },
  "orig_nbformat": 4,
  "vscode": {
   "interpreter": {
    "hash": "3edd25cf91b6f987df741fe269864937f4c5a6d5ea1936ea61a2893f276e69d6"
   }
  }
 },
 "nbformat": 4,
 "nbformat_minor": 2
}
