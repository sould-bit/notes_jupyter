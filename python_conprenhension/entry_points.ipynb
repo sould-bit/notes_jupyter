{
 "cells": [
  {
   "attachments": {},
   "cell_type": "markdown",
   "metadata": {},
   "source": [
    "# MODULARIZAR \n",
    "- propiedad que permite subdividri en partes mas pequeñas \n",
    "- cada una de las cuales debe ser tan independiente como sea posible "
   ]
  },
  {
   "attachments": {},
   "cell_type": "markdown",
   "metadata": {},
   "source": [
    "# problema de importacion en jupyter\n",
    "- error \"python \" por defecto toma el directorio como posicionado como raiz y no va a leer ningun modulo por fuera del directorio \n",
    "- solucion para importar fuera del local scope \n",
    "- from sys import path\n",
    "import os \n",
    "path.append(os.path.realpth('../'))"
   ]
  },
  {
   "cell_type": "code",
   "execution_count": 2,
   "metadata": {},
   "outputs": [],
   "source": [
    "#importamos desde sys path , y agregamos el directorio raiz donde lea todos los archivos \n",
    "from sys import path\n",
    "import os \n",
    "path.append(os.path.realpath('../python_conprenhension/modules/'))"
   ]
  },
  {
   "cell_type": "code",
   "execution_count": 10,
   "metadata": {},
   "outputs": [
    {
     "name": "stdout",
     "output_type": "stream",
     "text": [
      "['311', '394', '3902', '57']\n"
     ]
    }
   ],
   "source": [
    "# import import_ipynb\n",
    "from modules import modul\n",
    "a = modul.exprecion\n",
    "\n",
    "print(a)"
   ]
  },
  {
   "cell_type": "code",
   "execution_count": null,
   "metadata": {},
   "outputs": [],
   "source": [
    "import pkg"
   ]
  }
 ],
 "metadata": {
  "kernelspec": {
   "display_name": "conda_env",
   "language": "python",
   "name": "python3"
  },
  "language_info": {
   "codemirror_mode": {
    "name": "ipython",
    "version": 3
   },
   "file_extension": ".py",
   "mimetype": "text/x-python",
   "name": "python",
   "nbconvert_exporter": "python",
   "pygments_lexer": "ipython3",
   "version": "3.10.8 (main, Nov 24 2022, 14:13:03) [GCC 11.2.0]"
  },
  "orig_nbformat": 4,
  "vscode": {
   "interpreter": {
    "hash": "9664ca0b515d69c3577a0ca72b73943bac7fa6e0353e0db7ac30bd4d15b3eca1"
   }
  }
 },
 "nbformat": 4,
 "nbformat_minor": 2
}
