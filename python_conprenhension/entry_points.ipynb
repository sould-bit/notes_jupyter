{
 "cells": [
  {
   "attachments": {},
   "cell_type": "markdown",
   "metadata": {},
   "source": [
    "# MODULARIZAR \n",
    "- propiedad que permite subdividri en partes mas pequeñas \n",
    "- cada una de las cuales debe ser tan independiente como sea posible "
   ]
  },
  {
   "attachments": {},
   "cell_type": "markdown",
   "metadata": {},
   "source": [
    "# problema de importacion en jupyter\n",
    "- error \"python \" por defecto toma el directorio como posicionado como raiz y no va a leer ningun modulo por fuera del directorio \n",
    "- solucion para importar fuera del local scope \n",
    "- from sys import path\n",
    "import os \n",
    "path.append(os.path.realpth('../'))"
   ]
  },
  {
   "cell_type": "code",
   "execution_count": 5,
   "metadata": {},
   "outputs": [],
   "source": [
    "#importamos desde sys path , y agregamos el directorio raiz donde lea todos los archivos \n",
    "# from sys import path\n",
    "# import os \n",
    "# path.append(os.path.realpath('../python_conprenhension/modules/'))"
   ]
  },
  {
   "cell_type": "code",
   "execution_count": 10,
   "metadata": {},
   "outputs": [
    {
     "name": "stdout",
     "output_type": "stream",
     "text": [
      "['311', '394', '3902', '57']\n"
     ]
    }
   ],
   "source": [
    "import import_ipynb\n",
    "from modules import modul\n",
    "a = modul.exprecion\n",
    "\n",
    "print(a)"
   ]
  }
 ],
 "metadata": {
  "kernelspec": {
   "display_name": "Python 3 (ipykernel)",
   "language": "python",
   "name": "python3"
  },
  "language_info": {
   "codemirror_mode": {
    "name": "ipython",
    "version": 3
   },
   "file_extension": ".py",
   "mimetype": "text/x-python",
   "name": "python",
   "nbconvert_exporter": "python",
   "pygments_lexer": "ipython3",
   "version": "3.10.6"
  },
  "orig_nbformat": 4,
  "vscode": {
   "interpreter": {
    "hash": "3edd25cf91b6f987df741fe269864937f4c5a6d5ea1936ea61a2893f276e69d6"
   }
  }
 },
 "nbformat": 4,
 "nbformat_minor": 2
}
