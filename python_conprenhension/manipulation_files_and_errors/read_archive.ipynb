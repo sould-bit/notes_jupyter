{
  "cells": [
    {
      "attachments": {},
      "cell_type": "markdown",
      "metadata": {},
      "source": [
        " # forma de leer un archivo\n",
        "### NOTA\n",
        "- copie el relative path del archivo y curiosamente , encontro la ruta sin especificar la raiz \n",
        "- tener en cuenta para proyectos futuros si se debe al insert de la  configuracion de settings.json"
      ]
    },
    {
      "cell_type": "code",
      "execution_count": null,
      "metadata": {
        "id": "CkUpm-WI0Jyx"
      },
      "outputs": [],
      "source": [
        "# copie el relative path del archivo y curiosamente , encontro la ruta sin especificar la raiz \n",
        "# tener en cuenta para proyectos futuros si se debe al insert de la  configuracion de settings.json\n",
        "# with open('../mani/date.csv', \"rb\") as f:\n",
        "#   print(f.read())\n",
        "with open( \"../mani/file.txt\" , \"r\") as f:\n",
        "  print(f.read())\n",
        "  "
      ]
    },
    {
      "attachments": {},
      "cell_type": "markdown",
      "metadata": {},
      "source": [
        "## FORMA DE SOBREESCRIBIR UN ARCHIVO"
      ]
    },
    {
      "cell_type": "code",
      "execution_count": null,
      "metadata": {},
      "outputs": [],
      "source": [
        "# dato a analizar , el output de una sobreescritura con \"w\" retorna el numero de caracteres ;\n",
        "with open('../mani/file.txt', \"r+\") as a:\n",
        "  print(a.write(\"kate \"))\n",
        "  print(a.write(\"data.music\"))\n",
        "  \n",
        "  \n",
        "  "
      ]
    },
    {
      "attachments": {},
      "cell_type": "markdown",
      "metadata": {},
      "source": [
        "***********************\n",
        "# FORMA DE LEER UN SCV \n",
        "***********************"
      ]
    },
    {
      "cell_type": "code",
      "execution_count": null,
      "metadata": {},
      "outputs": [],
      "source": [
        "#importamos el modulo csv\n",
        "import csv\n",
        "\n",
        "# es importante automatizar en una funcion el codigo que nos resulve la incognita, para que sea reutilizable \n",
        "\n",
        "\n",
        "# crea una funcion con el parametro del path,  \n",
        "# abre el parametro con open() -dale permisos de escritura conn -  r, guardalo en variable con as f\n",
        "# toma el modulo csv con la propiedad .reader(variable guardada que abre toto el archivo, delimitador \";\", \",\" )\n",
        "# recorre  el archivo delimitado por \",\" en cada row\n",
        "# separalo , con \"***\" , e imprime el row \n",
        "date = []\n",
        "def read(path):\n",
        "    with open(path, \"r+\") as file:\n",
        "#de un archivo csv , leemos y delimitamos cada objeto (item) por \",\" y guardamos en variable read\n",
        "        read = csv.reader(file, delimiter=\",\")\n",
        "#retornamos la primera linea , de (read)\n",
        "        head = next(read)\n",
        "        # print(head)\n",
        "#recorremos cada linea del iterable (read)\n",
        "        for row in read:\n",
        "# tomamos los objetos delimitados \",\" de la primera linea(head) y los unimos (zip) con cada linea de la iteracion (row)\n",
        "            iter =zip (head, row)\n",
        "#extrae los elementos del iterable , con el elemento llave-valor\n",
        "            dictcomp = {key:value for key, value in iter}\n",
        "            \n",
        "# para cada linea agrega en el dictionary\n",
        "            date.append(dictcomp)\n",
        "            print(date)\n",
        "            \n",
        "\n",
        "\n",
        "read('../manipulation_files_and_errors/date.csv')\n",
        "\n",
        "        \n"
      ]
    },
    {
      "cell_type": "code",
      "execution_count": 2,
      "metadata": {},
      "outputs": [],
      "source": [
        "import csv\n",
        "array = []\n",
        "def read(path):\n",
        "    with open (path, \"r+\") as file:\n",
        "        read = csv.reader(file, delimiter=\",\")\n",
        "        head = next(read)\n",
        "        for row in read:\n",
        "# exlicito es mejor que implicito , seria una mala practica de acuerdo al zen la mejor opcion es , crear el dictcomprenhension\n",
        "            element = zip(head, row)\n",
        "            array.append(dict(element))\n",
        "            print(array)\n",
        "\n",
        "\n",
        "\n",
        "read(\"../manipulation_files_and_errors/date.csv\")\n"
      ]
    },
    {
      "attachments": {},
      "cell_type": "markdown",
      "metadata": {},
      "source": [
        "# CHALLENGUE\n",
        "\n",
        "\n",
        "Para resolver este desafío, debes utilizar el archivo data.csv que contiene los datos de los gastos de una empresa. El archivo tiene dos columnas: el nombre del área y el total de gastos del año.\n",
        "\n",
        "Tu reto es implementar la función read_csv que lee el archivo CSV y calcula el total de gastos de la empresa. Para leer el archivo CSV, puedes utilizar la función open y el módulo csv de Python. Una vez que hayas leído los datos, puedes calcular el total de gastos implementando la lógica que consideres necesaria.\n",
        "\n",
        "Ejemplo\n",
        "\n",
        "- Input: data.csv\n",
        "- Administration,10\n",
        "- Marketing,20\n",
        "- Purchasing,10\n",
        "- Human Resources,20\n",
        "\n",
        "Output:\n",
        "60  "
      ]
    },
    {
      "cell_type": "code",
      "execution_count": 3,
      "metadata": {},
      "outputs": [
        {
          "name": "stdout",
          "output_type": "stream",
          "text": [
            "60\n"
          ]
        }
      ],
      "source": [
        "import csv\n",
        "\n",
        "def read_csv(path):\n",
        "   # Tu código aquí 👇\n",
        "   with open (path, \"r+\") as file :\n",
        "      read  = csv.reader(file, delimiter=\",\")\n",
        "      total = 0\n",
        "# se extrae los valores y se guardan en un elemento llave : valor , para sumar es nesesario el typado ,\n",
        "      suma = {area: int(gasto)  for area, gasto in read}\n",
        "#retornamos la duma de los valores \n",
        "      return sum(suma.values())\n",
        "\n",
        "           \n",
        "\n",
        "\n",
        "\n",
        "         \n",
        "\n",
        "response = read_csv('./file.csv')\n",
        "print(response)"
      ]
    }
  ],
  "metadata": {
    "colab": {
      "provenance": []
    },
    "kernelspec": {
      "display_name": "Python 3",
      "language": "python",
      "name": "python3"
    },
    "language_info": {
      "codemirror_mode": {
        "name": "ipython",
        "version": 3
      },
      "file_extension": ".py",
      "mimetype": "text/x-python",
      "name": "python",
      "nbconvert_exporter": "python",
      "pygments_lexer": "ipython3",
      "version": "3.10.6 (main, Nov 14 2022, 16:10:14) [GCC 11.3.0]"
    },
    "orig_nbformat": 4,
    "vscode": {
      "interpreter": {
        "hash": "31f2aee4e71d21fbe5cf8b01ff0e069b9275f58929596ceb00d14d90e3e16cd6"
      }
    }
  },
  "nbformat": 4,
  "nbformat_minor": 0
}
