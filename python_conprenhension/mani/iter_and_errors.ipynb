{
 "cells": [
  {
   "attachments": {},
   "cell_type": "markdown",
   "metadata": {},
   "source": [
    "# ITERADORES \n",
    "- SOMTIMES  requeriremos de esto ya sea con condicion o no "
   ]
  },
  {
   "cell_type": "code",
   "execution_count": 11,
   "metadata": {},
   "outputs": [
    {
     "name": "stdout",
     "output_type": "stream",
     "text": [
      "<range_iterator object at 0x7ff586a97870>\n"
     ]
    }
   ],
   "source": [
    "i = iter(range(1,10))\n",
    "next(i)\n",
    "next(i)\n",
    "next(i)\n",
    "print(i\n",
    ")\n"
   ]
  },
  {
   "attachments": {},
   "cell_type": "markdown",
   "metadata": {},
   "source": [
    "# assert\n",
    "- comparaciones o validaciones de codigo ej \n",
    "#### si el codigo no retorno lo esperado , retorna error \n"
   ]
  },
  {
   "cell_type": "code",
   "execution_count": 5,
   "metadata": {},
   "outputs": [
    {
     "name": "stdout",
     "output_type": "stream",
     "text": [
      "hi\n"
     ]
    }
   ],
   "source": [
    "\n",
    "suma = lambda x,y: x + y\n",
    "# si la suma de los numeros no es igual a 5 da asertionerror\n",
    "assert suma(2,3)  ==5\n",
    "\n",
    "print('hi')"
   ]
  },
  {
   "attachments": {},
   "cell_type": "markdown",
   "metadata": {},
   "source": [
    "# RAISE EXEPCION\n",
    "- SI LA CONDICION NO SE CUMPLE MANEJAMOS EL TRACEBAAK ERROR "
   ]
  },
  {
   "cell_type": "code",
   "execution_count": 9,
   "metadata": {},
   "outputs": [
    {
     "name": "stdout",
     "output_type": "stream",
     "text": [
      "20\n"
     ]
    }
   ],
   "source": [
    "age = 20 \n",
    "if age < 19 :\n",
    "    raise Exception ('you are >')\n",
    "print(age)"
   ]
  },
  {
   "attachments": {},
   "cell_type": "markdown",
   "metadata": {},
   "source": [
    "# MANEJO DE ERRORES DE MANERA PRO \n",
    "- ESTE MANEJO ES UNA BUENA PRACTICA     \n",
    "### es importante indexar,  de manera conectada las validaciones (assert,raise_exception) with except"
   ]
  },
  {
   "cell_type": "code",
   "execution_count": 43,
   "metadata": {},
   "outputs": [
    {
     "name": "stdout",
     "output_type": "stream",
     "text": [
      "uno es igual \n",
      "  se corta el codigo si correr el bloque del try \n",
      " => the following code is excecuted\n"
     ]
    }
   ],
   "source": [
    "try:\n",
    "    # si el output de un bloque retorna un exeption , continua con el codigo fuera del try \n",
    "    # print(0/0)\n",
    "    assert 1 != 1, \"uno es igual \\n  se corta el codigo si correr el bloque del try \"\n",
    "    \n",
    "    largo = 180\n",
    "    if largo != 100:\n",
    "        raise Exception (\"nesesitamos uno mas grande \\n va cortar el codigo sin correr elif\")\n",
    "    elif largo ==  180 :\n",
    "        raise Exception (\"demasiado grande \")\n",
    "    \n",
    "\n",
    "# los exepts se pueden  reorganizar sin nesesidad de un try por cada bloque o linea de codigo \n",
    "except ZeroDivisionError as error:\n",
    "    print(error)\n",
    "except AssertionError as error:\n",
    "    print(error)\n",
    "except Exception as error:\n",
    "    print(error)\n",
    "a = \" => the following code is excecuted\"\n",
    "print(a)"
   ]
  },
  {
   "attachments": {},
   "cell_type": "markdown",
   "metadata": {},
   "source": [
    "## sometimes is nesesary to take a try block by block"
   ]
  },
  {
   "cell_type": "code",
   "execution_count": 39,
   "metadata": {},
   "outputs": [
    {
     "name": "stdout",
     "output_type": "stream",
     "text": [
      "es igual\n",
      "nesesitamos uno mas grande \n"
     ]
    }
   ],
   "source": [
    "try: \n",
    "    assert 1 != 1, \"es igual\"\n",
    "    \n",
    "# # this block code , captures an error, \n",
    "except AssertionError as error: \n",
    "       print(error)\n",
    "       \n",
    "#allowing the excecution of the following code \n",
    "\n",
    "try:\n",
    "    largo = 100\n",
    "    if largo == 100:\n",
    "        raise Exception (\"nesesitamos uno mas grande \")\n",
    "except Exception as error:\n",
    "    print(error)"
   ]
  }
 ],
 "metadata": {
  "kernelspec": {
   "display_name": "venv",
   "language": "python",
   "name": "python3"
  },
  "language_info": {
   "codemirror_mode": {
    "name": "ipython",
    "version": 3
   },
   "file_extension": ".py",
   "mimetype": "text/x-python",
   "name": "python",
   "nbconvert_exporter": "python",
   "pygments_lexer": "ipython3",
   "version": "3.10.6 (main, Nov 14 2022, 16:10:14) [GCC 11.3.0]"
  },
  "orig_nbformat": 4,
  "vscode": {
   "interpreter": {
    "hash": "3edd25cf91b6f987df741fe269864937f4c5a6d5ea1936ea61a2893f276e69d6"
   }
  }
 },
 "nbformat": 4,
 "nbformat_minor": 2
}
