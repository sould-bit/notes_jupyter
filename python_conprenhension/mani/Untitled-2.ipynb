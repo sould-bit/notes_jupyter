{
 "cells": [
  {
   "cell_type": "code",
   "execution_count": null,
   "metadata": {},
   "outputs": [],
   "source": [
    "def read(path):\n",
    "    with open(path, \"r\") as f:\n",
    "\n",
    "\n",
    "\n",
    "read(f.read())"
   ]
  }
 ],
 "metadata": {
  "kernelspec": {
   "display_name": "venv",
   "language": "python",
   "name": "python3"
  },
  "language_info": {
   "name": "python",
   "version": "3.10.6 (main, Nov 14 2022, 16:10:14) [GCC 11.3.0]"
  },
  "orig_nbformat": 4,
  "vscode": {
   "interpreter": {
    "hash": "3edd25cf91b6f987df741fe269864937f4c5a6d5ea1936ea61a2893f276e69d6"
   }
  }
 },
 "nbformat": 4,
 "nbformat_minor": 2
}
