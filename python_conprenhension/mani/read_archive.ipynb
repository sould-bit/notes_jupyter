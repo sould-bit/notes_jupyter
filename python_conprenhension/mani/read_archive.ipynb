{
  "cells": [
    {
      "attachments": {},
      "cell_type": "markdown",
      "metadata": {},
      "source": [
        " # forma de leer un archivo\n",
        "### NOTA\n",
        "- copie el relative path del archivo y curiosamente , encontro la ruta sin especificar la raiz \n",
        "- tener en cuenta para proyectos futuros si se debe al insert de la  configuracion de settings.json"
      ]
    },
    {
      "cell_type": "code",
      "execution_count": null,
      "metadata": {
        "id": "CkUpm-WI0Jyx"
      },
      "outputs": [],
      "source": [
        "# copie el relative path del archivo y curiosamente , encontro la ruta sin especificar la raiz \n",
        "# tener en cuenta para proyectos futuros si se debe al insert de la  configuracion de settings.json\n",
        "with open('../mani/date.csv', \"rb\") as f:\n",
        "  print(f.read())\n",
        "  "
      ]
    },
    {
      "attachments": {},
      "cell_type": "markdown",
      "metadata": {},
      "source": [
        "## FORMA DE SOBREESCRIBIR UN ARCHIVO"
      ]
    },
    {
      "cell_type": "code",
      "execution_count": 26,
      "metadata": {},
      "outputs": [
        {
          "name": "stdout",
          "output_type": "stream",
          "text": [
            "16\n"
          ]
        }
      ],
      "source": [
        "# dato a analizar , el output de una sobreescritura con \"w\" retorna el numero de caracteres ;\n",
        "with open('../mani/file.txt', \"w\") as a:\n",
        "  print(a.write(\"this is overwite\"))\n",
        "  \n",
        "  \n",
        "  "
      ]
    },
    {
      "attachments": {},
      "cell_type": "markdown",
      "metadata": {},
      "source": [
        "***********************\n",
        "# FORMA DE LEER UN SCV \n",
        "***********************"
      ]
    },
    {
      "cell_type": "code",
      "execution_count": 31,
      "metadata": {},
      "outputs": [
        {
          "ename": "SyntaxError",
          "evalue": "invalid syntax (2038000320.py, line 12)",
          "output_type": "error",
          "traceback": [
            "\u001b[0;36m  File \u001b[0;32m\"/tmp/ipykernel_1578/2038000320.py\"\u001b[0;36m, line \u001b[0;32m12\u001b[0m\n\u001b[0;31m    csv.reader(file, delimiter=\",\") as read\u001b[0m\n\u001b[0m                                    ^\u001b[0m\n\u001b[0;31mSyntaxError\u001b[0m\u001b[0;31m:\u001b[0m invalid syntax\n"
          ]
        }
      ],
      "source": [
        "#importamos el modulo csv\n",
        "import csv\n",
        "\n",
        "# es importante automatizar en una funcion el codigo que nos resulve la incognita, para que sea reutilizable \n",
        "\n",
        "\n",
        "# crea una funcion con el parametro del path,  \n",
        "# abre el parametro con open() -dale permisos de escritura conn -  r, guardalo en variable con as f\n",
        "# toma el modulo csv con la propiedad .reader(variable guardada que abre toto el archivo, delimitador \";\", \",\" )\n",
        "# recorre  el archivo delimitado por \",\" en cada row\n",
        "# separalo , con \"***\" , e imprime el row \n",
        "\n",
        "def read(path):\n",
        "    with open(path, \"r\")as file:\n",
        "        read = csv.reader(file, delimiter=\",\") \n",
        "        for row in read:\n",
        "            print(\"***\" * 5)\n",
        "            print(row)\n",
        "\n",
        "if __name__ == \"__main__\":\n",
        "    read(\"../mani/date.csv\")\n"
      ]
    }
  ],
  "metadata": {
    "colab": {
      "provenance": []
    },
    "kernelspec": {
      "display_name": "Python 3",
      "language": "python",
      "name": "python3"
    },
    "language_info": {
      "codemirror_mode": {
        "name": "ipython",
        "version": 3
      },
      "file_extension": ".py",
      "mimetype": "text/x-python",
      "name": "python",
      "nbconvert_exporter": "python",
      "pygments_lexer": "ipython3",
      "version": "3.10.6"
    },
    "orig_nbformat": 4,
    "vscode": {
      "interpreter": {
        "hash": "916dbcbb3f70747c44a77c7bcd40155683ae19c65e1c03b4aa3499c5328201f1"
      }
    }
  },
  "nbformat": 4,
  "nbformat_minor": 0
}
