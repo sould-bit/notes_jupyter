{
 "cells": [
  {
   "attachments": {},
   "cell_type": "markdown",
   "metadata": {},
   "source": [
    "# MODULOS\n",
    " es un archivo con la etencion de un lenguaje "
   ]
  },
  {
   "cell_type": "code",
   "execution_count": 1,
   "metadata": {},
   "outputs": [
    {
     "name": "stdout",
     "output_type": "stream",
     "text": [
      "['/home/k1r4/notes_jupyter', '/usr/lib/python310.zip', '/usr/lib/python3.10', '/usr/lib/python3.10/lib-dynload', '', '/usr/local/lib/python3.10/dist-packages', '/usr/lib/python3/dist-packages', '/usr/lib/python3.10/dist-packages', '/usr/lib/python3/dist-packages/IPython/extensions', '/home/k1r4/.ipython']\n"
     ]
    }
   ],
   "source": [
    "import sys \n",
    "print(sys.path)"
   ]
  },
  {
   "attachments": {},
   "cell_type": "markdown",
   "metadata": {},
   "source": [
    "# expreciones regulares "
   ]
  },
  {
   "cell_type": "code",
   "execution_count": 4,
   "metadata": {},
   "outputs": [
    {
     "name": "stdout",
     "output_type": "stream",
     "text": [
      "['311', '394', '3902', '57']\n"
     ]
    }
   ],
   "source": [
    "import re\n",
    "\n",
    "text = 'this tex is an example 311 394 3902 con codigo 57 '\n",
    "\n",
    "result = re.findall('[0-9]+', text)\n",
    "print(result)"
   ]
  },
  {
   "cell_type": "code",
   "execution_count": 9,
   "metadata": {},
   "outputs": [
    {
     "name": "stdout",
     "output_type": "stream",
     "text": [
      "1671493806.4166348\n",
      "time.struct_time(tm_year=2022, tm_mon=12, tm_mday=19, tm_hour=18, tm_min=50, tm_sec=6, tm_wday=0, tm_yday=353, tm_isdst=0)\n",
      "Mon Dec 19 18:50:06 2022\n"
     ]
    }
   ],
   "source": [
    "import time \n",
    "timestamp = time.time()\n",
    "local = time.localtime()\n",
    "result = time.asctime(local)\n",
    "print(timestamp)\n",
    "print(local)\n",
    "print(result)"
   ]
  },
  {
   "cell_type": "code",
   "execution_count": 12,
   "metadata": {},
   "outputs": [
    {
     "name": "stdout",
     "output_type": "stream",
     "text": [
      "Counter({2: 7, 1: 4, 3: 3, 4: 2, 6: 2, 34: 1, 55: 1, 77: 1})\n"
     ]
    }
   ],
   "source": [
    "import collections\n",
    "\n",
    "numbers =[1,1,1,1,2,2,3,3,34,4,55,6,6,77,2,2,2,2,2,3,4]\n",
    "\n",
    "count = collections.Counter(numbers)\n",
    "\n",
    "print(count)"
   ]
  },
  {
   "attachments": {},
   "cell_type": "markdown",
   "metadata": {},
   "source": [
    "- podemos hacer nuestros propios modulos he importar sus funciones "
   ]
  },
  {
   "cell_type": "code",
   "execution_count": null,
   "metadata": {},
   "outputs": [],
   "source": [
    "import filtrando_datos\n",
    "\n"
   ]
  }
 ],
 "metadata": {
  "kernelspec": {
   "display_name": "Python 3",
   "language": "python",
   "name": "python3"
  },
  "language_info": {
   "codemirror_mode": {
    "name": "ipython",
    "version": 3
   },
   "file_extension": ".py",
   "mimetype": "text/x-python",
   "name": "python",
   "nbconvert_exporter": "python",
   "pygments_lexer": "ipython3",
   "version": "3.10.6 (main, Nov 14 2022, 16:10:14) [GCC 11.3.0]"
  },
  "orig_nbformat": 4,
  "vscode": {
   "interpreter": {
    "hash": "31f2aee4e71d21fbe5cf8b01ff0e069b9275f58929596ceb00d14d90e3e16cd6"
   }
  }
 },
 "nbformat": 4,
 "nbformat_minor": 2
}
